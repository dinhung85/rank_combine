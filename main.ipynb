{
 "cells": [
  {
   "cell_type": "code",
   "execution_count": 1,
   "metadata": {},
   "outputs": [],
   "source": [
    "import pandas as pd"
   ]
  },
  {
   "cell_type": "code",
   "execution_count": 25,
   "metadata": {},
   "outputs": [],
   "source": [
    "data = pd.read_csv(\"data/ranking.csv\").set_index('Request ID')"
   ]
  },
  {
   "cell_type": "code",
   "execution_count": 26,
   "metadata": {},
   "outputs": [
    {
     "data": {
      "text/html": [
       "<div>\n",
       "<style scoped>\n",
       "    .dataframe tbody tr th:only-of-type {\n",
       "        vertical-align: middle;\n",
       "    }\n",
       "\n",
       "    .dataframe tbody tr th {\n",
       "        vertical-align: top;\n",
       "    }\n",
       "\n",
       "    .dataframe thead th {\n",
       "        text-align: right;\n",
       "    }\n",
       "</style>\n",
       "<table border=\"1\" class=\"dataframe\">\n",
       "  <thead>\n",
       "    <tr style=\"text-align: right;\">\n",
       "      <th></th>\n",
       "      <th>Market</th>\n",
       "      <th>Product</th>\n",
       "      <th>Market Rank</th>\n",
       "      <th>Product Rank</th>\n",
       "    </tr>\n",
       "    <tr>\n",
       "      <th>Request ID</th>\n",
       "      <th></th>\n",
       "      <th></th>\n",
       "      <th></th>\n",
       "      <th></th>\n",
       "    </tr>\n",
       "  </thead>\n",
       "  <tbody>\n",
       "    <tr>\n",
       "      <th>49005</th>\n",
       "      <td>China</td>\n",
       "      <td>1</td>\n",
       "      <td>1</td>\n",
       "      <td>1</td>\n",
       "    </tr>\n",
       "    <tr>\n",
       "      <th>30679</th>\n",
       "      <td>China</td>\n",
       "      <td>1</td>\n",
       "      <td>2</td>\n",
       "      <td>2</td>\n",
       "    </tr>\n",
       "    <tr>\n",
       "      <th>45665</th>\n",
       "      <td>Singapore</td>\n",
       "      <td>1</td>\n",
       "      <td>2</td>\n",
       "      <td>3</td>\n",
       "    </tr>\n",
       "    <tr>\n",
       "      <th>49871</th>\n",
       "      <td>US</td>\n",
       "      <td>1</td>\n",
       "      <td>3</td>\n",
       "      <td>4</td>\n",
       "    </tr>\n",
       "    <tr>\n",
       "      <th>34614</th>\n",
       "      <td>Europe</td>\n",
       "      <td>1</td>\n",
       "      <td>3</td>\n",
       "      <td>5</td>\n",
       "    </tr>\n",
       "  </tbody>\n",
       "</table>\n",
       "</div>"
      ],
      "text/plain": [
       "               Market  Product  Market Rank  Product Rank\n",
       "Request ID                                               \n",
       "49005           China        1            1             1\n",
       "30679           China        1            2             2\n",
       "45665       Singapore        1            2             3\n",
       "49871              US        1            3             4\n",
       "34614          Europe        1            3             5"
      ]
     },
     "execution_count": 26,
     "metadata": {},
     "output_type": "execute_result"
    }
   ],
   "source": [
    "data.head()"
   ]
  },
  {
   "cell_type": "code",
   "execution_count": 8,
   "metadata": {},
   "outputs": [],
   "source": [
    "sp = pd.DataFrame()"
   ]
  },
  {
   "cell_type": "code",
   "execution_count": 40,
   "metadata": {},
   "outputs": [],
   "source": [
    "spg = data[data['Market']=='Singapore']['Market Rank']\n",
    "ame = data[data['Market']=='US']['Market Rank']\n",
    "cnn = data[data['Market']=='China']['Market Rank']\n",
    "eur = data[data['Market']=='European']['Market Rank']\n",
    "\n",
    "prod_1 = data[data['Product']== 1]['Product Rank']\n",
    "prod_2 = data[data['Product']== 2]['Product Rank']\n",
    "prod_3 = data[data['Product']== 3]['Product Rank']\n",
    "prod_4 = data[data['Product']== 4]['Product Rank']"
   ]
  },
  {
   "cell_type": "code",
   "execution_count": 39,
   "metadata": {},
   "outputs": [
    {
     "data": {
      "text/plain": [
       "Request ID\n",
       "49005     1\n",
       "30679     2\n",
       "45665     3\n",
       "49871     4\n",
       "34614     5\n",
       "36999     6\n",
       "45334     7\n",
       "24540     8\n",
       "31341     9\n",
       "30574    10\n",
       "23954    11\n",
       "32896    12\n",
       "24198    13\n",
       "24171    14\n",
       "26975    15\n",
       "30628    16\n",
       "48676    17\n",
       "40920    18\n",
       "48699    19\n",
       "40523    20\n",
       "27669    21\n",
       "37343    22\n",
       "30245    23\n",
       "30829    24\n",
       "26571    25\n",
       "20608    26\n",
       "49392    27\n",
       "47716    28\n",
       "33386    29\n",
       "44175    30\n",
       "41358    31\n",
       "39648    32\n",
       "24867    33\n",
       "33264    34\n",
       "47553    35\n",
       "30636    36\n",
       "30770    37\n",
       "26213    38\n",
       "49325    39\n",
       "40976    40\n",
       "34049    41\n",
       "38884    42\n",
       "36840    43\n",
       "Name: Product Rank, dtype: int64"
      ]
     },
     "execution_count": 39,
     "metadata": {},
     "output_type": "execute_result"
    }
   ],
   "source": [
    "prod_1"
   ]
  },
  {
   "cell_type": "code",
   "execution_count": 19,
   "metadata": {},
   "outputs": [],
   "source": [
    "import lxml"
   ]
  },
  {
   "cell_type": "code",
   "execution_count": 41,
   "metadata": {},
   "outputs": [],
   "source": [
    "import requests"
   ]
  },
  {
   "cell_type": "code",
   "execution_count": 42,
   "metadata": {},
   "outputs": [],
   "source": [
    "from lxml import html"
   ]
  },
  {
   "cell_type": "code",
   "execution_count": null,
   "metadata": {},
   "outputs": [],
   "source": []
  }
 ],
 "metadata": {
  "kernelspec": {
   "display_name": "Python 3",
   "language": "python",
   "name": "python3"
  },
  "language_info": {
   "codemirror_mode": {
    "name": "ipython",
    "version": 3
   },
   "file_extension": ".py",
   "mimetype": "text/x-python",
   "name": "python",
   "nbconvert_exporter": "python",
   "pygments_lexer": "ipython3",
   "version": "3.6.8"
  }
 },
 "nbformat": 4,
 "nbformat_minor": 2
}
